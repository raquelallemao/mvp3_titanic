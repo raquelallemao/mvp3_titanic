{
  "cells": [
    {
      "cell_type": "markdown",
      "metadata": {
        "id": "Gi4bkQW7bV4Q"
      },
      "source": [
        "##Importações iniciais"
      ]
    },
    {
      "cell_type": "code",
      "execution_count": 1,
      "metadata": {
        "id": "W0g8lJCQbzhm"
      },
      "outputs": [],
      "source": [
        "import numpy as np\n",
        "import pandas as pd\n",
        "import seaborn as sns\n",
        "from matplotlib import pyplot as plt\n",
        "%matplotlib inline\n",
        "sns.set_style(\"whitegrid\")\n",
        "\n",
        "from sklearn.model_selection import train_test_split\n",
        "from sklearn.metrics import accuracy_score, confusion_matrix, make_scorer\n",
        "from sklearn.neighbors import KNeighborsClassifier\n",
        "from sklearn.tree import DecisionTreeClassifier\n",
        "from sklearn.svm import SVC, LinearSVC\n",
        "from sklearn.ensemble import RandomForestClassifier\n",
        "from sklearn.linear_model import LogisticRegression\n",
        "from sklearn.naive_bayes import GaussianNB\n",
        "from sklearn.model_selection import GridSearchCV\n",
        "from sklearn.model_selection import train_test_split\n",
        "from sklearn.model_selection import cross_val_score\n",
        "from sklearn.model_selection import KFold\n",
        "from sklearn.model_selection import StratifiedKFold\n",
        "from sklearn.feature_extraction import FeatureHasher\n",
        "from sklearn.preprocessing import StandardScaler\n",
        "from sklearn.preprocessing import MinMaxScaler\n",
        "from sklearn.compose import ColumnTransformer\n",
        "from sklearn.preprocessing import Normalizer\n",
        "from sklearn.pipeline import Pipeline\n",
        "\n",
        "import warnings\n",
        "warnings.filterwarnings('ignore')"
      ]
    },
    {
      "cell_type": "markdown",
      "metadata": {
        "id": "8hAiwJbTbYAP"
      },
      "source": [
        "##Carregando dataset (test + training)"
      ]
    },
    {
      "cell_type": "code",
      "execution_count": 2,
      "metadata": {
        "colab": {
          "base_uri": "https://localhost:8080/",
          "height": 238
        },
        "id": "mQqjhC9Ipat8",
        "outputId": "357b0967-c95f-496d-a52e-a1a4e746c48d"
      },
      "outputs": [
        {
          "data": {
            "text/html": [
              "<div>\n",
              "<style scoped>\n",
              "    .dataframe tbody tr th:only-of-type {\n",
              "        vertical-align: middle;\n",
              "    }\n",
              "\n",
              "    .dataframe tbody tr th {\n",
              "        vertical-align: top;\n",
              "    }\n",
              "\n",
              "    .dataframe thead th {\n",
              "        text-align: right;\n",
              "    }\n",
              "</style>\n",
              "<table border=\"1\" class=\"dataframe\">\n",
              "  <thead>\n",
              "    <tr style=\"text-align: right;\">\n",
              "      <th></th>\n",
              "      <th>PassengerId</th>\n",
              "      <th>Survived</th>\n",
              "      <th>Pclass</th>\n",
              "      <th>Name</th>\n",
              "      <th>Sex</th>\n",
              "      <th>Age</th>\n",
              "      <th>SibSp</th>\n",
              "      <th>Parch</th>\n",
              "      <th>Ticket</th>\n",
              "      <th>Fare</th>\n",
              "      <th>Cabin</th>\n",
              "      <th>Embarked</th>\n",
              "    </tr>\n",
              "  </thead>\n",
              "  <tbody>\n",
              "    <tr>\n",
              "      <th>0</th>\n",
              "      <td>1</td>\n",
              "      <td>0</td>\n",
              "      <td>3</td>\n",
              "      <td>Braund, Mr. Owen Harris</td>\n",
              "      <td>male</td>\n",
              "      <td>22.0</td>\n",
              "      <td>1</td>\n",
              "      <td>0</td>\n",
              "      <td>A/5 21171</td>\n",
              "      <td>7.2500</td>\n",
              "      <td>NaN</td>\n",
              "      <td>S</td>\n",
              "    </tr>\n",
              "    <tr>\n",
              "      <th>1</th>\n",
              "      <td>2</td>\n",
              "      <td>1</td>\n",
              "      <td>1</td>\n",
              "      <td>Cumings, Mrs. John Bradley (Florence Briggs Th...</td>\n",
              "      <td>female</td>\n",
              "      <td>38.0</td>\n",
              "      <td>1</td>\n",
              "      <td>0</td>\n",
              "      <td>PC 17599</td>\n",
              "      <td>71.2833</td>\n",
              "      <td>C85</td>\n",
              "      <td>C</td>\n",
              "    </tr>\n",
              "    <tr>\n",
              "      <th>2</th>\n",
              "      <td>3</td>\n",
              "      <td>1</td>\n",
              "      <td>3</td>\n",
              "      <td>Heikkinen, Miss. Laina</td>\n",
              "      <td>female</td>\n",
              "      <td>26.0</td>\n",
              "      <td>0</td>\n",
              "      <td>0</td>\n",
              "      <td>STON/O2. 3101282</td>\n",
              "      <td>7.9250</td>\n",
              "      <td>NaN</td>\n",
              "      <td>S</td>\n",
              "    </tr>\n",
              "    <tr>\n",
              "      <th>3</th>\n",
              "      <td>4</td>\n",
              "      <td>1</td>\n",
              "      <td>1</td>\n",
              "      <td>Futrelle, Mrs. Jacques Heath (Lily May Peel)</td>\n",
              "      <td>female</td>\n",
              "      <td>35.0</td>\n",
              "      <td>1</td>\n",
              "      <td>0</td>\n",
              "      <td>113803</td>\n",
              "      <td>53.1000</td>\n",
              "      <td>C123</td>\n",
              "      <td>S</td>\n",
              "    </tr>\n",
              "    <tr>\n",
              "      <th>4</th>\n",
              "      <td>5</td>\n",
              "      <td>0</td>\n",
              "      <td>3</td>\n",
              "      <td>Allen, Mr. William Henry</td>\n",
              "      <td>male</td>\n",
              "      <td>35.0</td>\n",
              "      <td>0</td>\n",
              "      <td>0</td>\n",
              "      <td>373450</td>\n",
              "      <td>8.0500</td>\n",
              "      <td>NaN</td>\n",
              "      <td>S</td>\n",
              "    </tr>\n",
              "  </tbody>\n",
              "</table>\n",
              "</div>"
            ],
            "text/plain": [
              "   PassengerId  Survived  Pclass  \\\n",
              "0            1         0       3   \n",
              "1            2         1       1   \n",
              "2            3         1       3   \n",
              "3            4         1       1   \n",
              "4            5         0       3   \n",
              "\n",
              "                                                Name     Sex   Age  SibSp  \\\n",
              "0                            Braund, Mr. Owen Harris    male  22.0      1   \n",
              "1  Cumings, Mrs. John Bradley (Florence Briggs Th...  female  38.0      1   \n",
              "2                             Heikkinen, Miss. Laina  female  26.0      0   \n",
              "3       Futrelle, Mrs. Jacques Heath (Lily May Peel)  female  35.0      1   \n",
              "4                           Allen, Mr. William Henry    male  35.0      0   \n",
              "\n",
              "   Parch            Ticket     Fare Cabin Embarked  \n",
              "0      0         A/5 21171   7.2500   NaN        S  \n",
              "1      0          PC 17599  71.2833   C85        C  \n",
              "2      0  STON/O2. 3101282   7.9250   NaN        S  \n",
              "3      0            113803  53.1000  C123        S  \n",
              "4      0            373450   8.0500   NaN        S  "
            ]
          },
          "execution_count": 2,
          "metadata": {},
          "output_type": "execute_result"
        }
      ],
      "source": [
        "training = pd.read_csv(\"https://raw.githubusercontent.com/gabrielaallemao/mvp3/main/train.csv\")\n",
        "testing = pd.read_csv(\"https://raw.githubusercontent.com/gabrielaallemao/mvp3/main/test.csv\")\n",
        "\n",
        "training.head()"
      ]
    },
    {
      "cell_type": "markdown",
      "metadata": {
        "id": "DiaOcXtTbfOK"
      },
      "source": [
        "###Transformação e organização de dados"
      ]
    },
    {
      "cell_type": "code",
      "execution_count": 3,
      "metadata": {
        "colab": {
          "base_uri": "https://localhost:8080/"
        },
        "id": "CQ1Xy_6pot2N",
        "outputId": "df4a47dc-3b51-4c4f-830c-d9bb848b409d"
      },
      "outputs": [
        {
          "name": "stdout",
          "output_type": "stream",
          "text": [
            "Training Data Frame\n",
            "PassengerId      0\n",
            "Survived         0\n",
            "Pclass           0\n",
            "Name             0\n",
            "Sex              0\n",
            "Age            177\n",
            "SibSp            0\n",
            "Parch            0\n",
            "Ticket           0\n",
            "Fare             0\n",
            "Cabin          687\n",
            "Embarked         2\n",
            "dtype: int64\n",
            " \n",
            "Testing Data Frame\n",
            "PassengerId      0\n",
            "Pclass           0\n",
            "Name             0\n",
            "Sex              0\n",
            "Age             86\n",
            "SibSp            0\n",
            "Parch            0\n",
            "Ticket           0\n",
            "Fare             1\n",
            "Cabin          327\n",
            "Embarked         0\n",
            "dtype: int64\n"
          ]
        }
      ],
      "source": [
        "# Observando quantidade de células com valores nulos\n",
        "def null_table(training, testing):\n",
        "    print(\"Training Data Frame\")\n",
        "    print(pd.isnull(training).sum())\n",
        "    print(\" \")\n",
        "    print(\"Testing Data Frame\")\n",
        "    print(pd.isnull(testing).sum())\n",
        "\n",
        "null_table(training, testing)"
      ]
    },
    {
      "cell_type": "code",
      "execution_count": 4,
      "metadata": {
        "colab": {
          "base_uri": "https://localhost:8080/"
        },
        "id": "SVKYlFz4qbmz",
        "outputId": "cb7320f9-9fa7-4981-ab68-338cc5220a71"
      },
      "outputs": [
        {
          "name": "stdout",
          "output_type": "stream",
          "text": [
            "Training Data Frame\n",
            "PassengerId      0\n",
            "Survived         0\n",
            "Pclass           0\n",
            "Name             0\n",
            "Sex              0\n",
            "Age            177\n",
            "SibSp            0\n",
            "Parch            0\n",
            "Fare             0\n",
            "Embarked         2\n",
            "dtype: int64\n",
            " \n",
            "Testing Data Frame\n",
            "PassengerId     0\n",
            "Pclass          0\n",
            "Name            0\n",
            "Sex             0\n",
            "Age            86\n",
            "SibSp           0\n",
            "Parch           0\n",
            "Fare            1\n",
            "Embarked        0\n",
            "dtype: int64\n"
          ]
        }
      ],
      "source": [
        "#Excluindo as colunas com muitas células nulas para facilitar os cálculos\n",
        "\n",
        "training.drop(labels = [\"Cabin\", \"Ticket\"], axis = 1, inplace = True)\n",
        "testing.drop(labels = [\"Cabin\", \"Ticket\"], axis = 1, inplace = True)\n",
        "\n",
        "null_table(training, testing)"
      ]
    },
    {
      "cell_type": "code",
      "execution_count": 5,
      "metadata": {
        "colab": {
          "base_uri": "https://localhost:8080/"
        },
        "id": "OTEK_ZECrNLt",
        "outputId": "f5197ea5-fd6a-4cc5-8399-1915d252aedf"
      },
      "outputs": [
        {
          "name": "stdout",
          "output_type": "stream",
          "text": [
            "Training Data Frame\n",
            "PassengerId    0\n",
            "Survived       0\n",
            "Pclass         0\n",
            "Name           0\n",
            "Sex            0\n",
            "Age            0\n",
            "SibSp          0\n",
            "Parch          0\n",
            "Fare           0\n",
            "Embarked       0\n",
            "dtype: int64\n",
            " \n",
            "Testing Data Frame\n",
            "PassengerId    0\n",
            "Pclass         0\n",
            "Name           0\n",
            "Sex            0\n",
            "Age            0\n",
            "SibSp          0\n",
            "Parch          0\n",
            "Fare           0\n",
            "Embarked       0\n",
            "dtype: int64\n"
          ]
        }
      ],
      "source": [
        "# Preenchendo idades nulas com médias para facilitar os cálculos\n",
        "training[\"Age\"].fillna(training[\"Age\"].median(), inplace = True)\n",
        "testing[\"Age\"].fillna(testing[\"Age\"].median(), inplace = True)\n",
        "training[\"Embarked\"].fillna(\"S\", inplace = True)\n",
        "testing[\"Fare\"].fillna(testing[\"Fare\"].median(), inplace = True)\n",
        "\n",
        "null_table(training, testing)"
      ]
    },
    {
      "cell_type": "markdown",
      "metadata": {
        "id": "3w5t8DFatSjr"
      },
      "source": [
        "###Interpretação inicial dos dados"
      ]
    },
    {
      "cell_type": "code",
      "execution_count": 6,
      "metadata": {
        "colab": {
          "base_uri": "https://localhost:8080/",
          "height": 557
        },
        "id": "SmipsESqr8__",
        "outputId": "3910a9fd-63f1-4e9c-b3d4-574ab3195dfd"
      },
      "outputs": [
        {
          "data": {
            "image/png": "[encoded data removed]",
            "text/plain": [
              "<Figure size 640x480 with 1 Axes>"
            ]
          },
          "metadata": {},
          "output_type": "display_data"
        },
        {
          "name": "stdout",
          "output_type": "stream",
          "text": [
            "Total de passageiros que sobreviveram ao naufrágio: 342\n",
            "Porcentagem de mulheres que sobreviveram:\n",
            "68.13 %\n",
            "Porcentagem de homens que sobreviveram:\n",
            "31.87 %\n"
          ]
        }
      ],
      "source": [
        "# Calculando a taxa de sobrevivência por gênero\n",
        "sns.barplot(x=\"Sex\", y=\"Survived\", data=training)\n",
        "plt.title(\"Distribuição da sobrevivência por gênero\")\n",
        "plt.ylabel(\"Sobreviventes\")\n",
        "plt.xlabel(\"Gênero\")\n",
        "plt.show()\n",
        "\n",
        "total_survived_females = training[training.Sex == \"female\"][\"Survived\"].sum()\n",
        "total_survived_males = training[training.Sex == \"male\"][\"Survived\"].sum()\n",
        "\n",
        "survived_females_rate = \"%.2f\" % ((total_survived_females/(total_survived_females + total_survived_males))*100)\n",
        "survived_males_rate = \"%.2f\" % ((total_survived_males/(total_survived_females + total_survived_males))*100)\n",
        "\n",
        "print(\"Total de passageiros que sobreviveram ao naufrágio: \" + str((total_survived_females + total_survived_males)))\n",
        "print(\"Porcentagem de mulheres que sobreviveram:\")\n",
        "print(survived_females_rate, '%')\n",
        "print(\"Porcentagem de homens que sobreviveram:\")\n",
        "print(survived_males_rate, '%')"
      ]
    },
    {
      "cell_type": "code",
      "execution_count": 7,
      "metadata": {
        "colab": {
          "base_uri": "https://localhost:8080/",
          "height": 591
        },
        "id": "UTHucRZHtL9R",
        "outputId": "5199cc7a-60d2-4ad3-b407-e23a092808f4"
      },
      "outputs": [
        {
          "data": {
            "image/png": "[encoded data removed]",
            "text/plain": [
              "<Figure size 640x480 with 1 Axes>"
            ]
          },
          "metadata": {},
          "output_type": "display_data"
        },
        {
          "name": "stdout",
          "output_type": "stream",
          "text": [
            "Total de passageiros que sobreviveram ao naufrágio: 342\n",
            "Porcentagem de passageiros da Class 1 que sobreviveram:\n",
            "39.77 %\n",
            "Porcentagem de passageiros da Class 3 que sobreviveram:\n",
            "25.44 %\n",
            "Porcentagem de passageiros da Class 3 que sobreviveram:\n",
            "34.80 %\n"
          ]
        }
      ],
      "source": [
        "# Calculando a taxa de sobrevivência por classe\n",
        "sns.barplot(x=\"Pclass\", y=\"Survived\", data=training)\n",
        "plt.ylabel(\"Taxas de sobrevivência\")\n",
        "plt.xlabel(\"Classe\")\n",
        "plt.title(\"Distribuição da sobrevivência por classe\")\n",
        "plt.show()\n",
        "\n",
        "total_survived_one = training[training.Pclass == 1][\"Survived\"].sum()\n",
        "total_survived_two = training[training.Pclass == 2][\"Survived\"].sum()\n",
        "total_survived_three = training[training.Pclass == 3][\"Survived\"].sum()\n",
        "total_survived_class = total_survived_one + total_survived_two + total_survived_three\n",
        "\n",
        "rate_survived_one = \"%.2f\" % ((total_survived_one/total_survived_class)*100)\n",
        "rate_survived_two = \"%.2f\" % ((total_survived_two/total_survived_class)*100)\n",
        "rate_survived_three = \"%.2f\" % ((total_survived_three/total_survived_class)*100)\n",
        "\n",
        "print(\"Total de passageiros que sobreviveram ao naufrágio: \" + str(total_survived_class))\n",
        "print(\"Porcentagem de passageiros da Class 1 que sobreviveram:\")\n",
        "print(rate_survived_one, '%')\n",
        "print(\"Porcentagem de passageiros da Class 3 que sobreviveram:\")\n",
        "print(rate_survived_two, '%')\n",
        "print(\"Porcentagem de passageiros da Class 3 que sobreviveram:\")\n",
        "print(rate_survived_three, '%')\n"
      ]
    },
    {
      "cell_type": "code",
      "execution_count": 8,
      "metadata": {
        "colab": {
          "base_uri": "https://localhost:8080/",
          "height": 472
        },
        "id": "CfFtWZXtw4sW",
        "outputId": "03fb9c92-847a-4b19-a7fe-12929ef3a0b8"
      },
      "outputs": [
        {
          "data": {
            "image/png": "[encoded data removed]",
            "text/plain": [
              "<Figure size 640x480 with 2 Axes>"
            ]
          },
          "metadata": {},
          "output_type": "display_data"
        }
      ],
      "source": [
        "#Idades dos passageiros\n",
        "survived_ages = training[training.Survived == 1][\"Age\"]\n",
        "not_survived_ages = training[training.Survived == 0][\"Age\"]\n",
        "plt.subplot(1, 2, 1)\n",
        "sns.distplot(survived_ages, kde=False)\n",
        "plt.axis([0, 100, 0, 100])\n",
        "plt.title(\"Sobreviventes\")\n",
        "plt.ylabel(\"Proporção\")\n",
        "plt.xlabel(\"Idade\")\n",
        "plt.subplot(1, 2, 2)\n",
        "sns.distplot(not_survived_ages, kde=False)\n",
        "plt.axis([0, 100, 0, 100])\n",
        "plt.title(\"Não Sobreviventes\")\n",
        "plt.xlabel(\"Idade\")\n",
        "plt.show()"
      ]
    },
    {
      "cell_type": "code",
      "execution_count": 9,
      "metadata": {
        "colab": {
          "base_uri": "https://localhost:8080/",
          "height": 359
        },
        "id": "Zk7d5jZg2AG_",
        "outputId": "341aa76b-fc24-4e71-c5c9-2bc70852b505"
      },
      "outputs": [
        {
          "data": {
            "text/html": [
              "<div>\n",
              "<style scoped>\n",
              "    .dataframe tbody tr th:only-of-type {\n",
              "        vertical-align: middle;\n",
              "    }\n",
              "\n",
              "    .dataframe tbody tr th {\n",
              "        vertical-align: top;\n",
              "    }\n",
              "\n",
              "    .dataframe thead th {\n",
              "        text-align: right;\n",
              "    }\n",
              "</style>\n",
              "<table border=\"1\" class=\"dataframe\">\n",
              "  <thead>\n",
              "    <tr style=\"text-align: right;\">\n",
              "      <th></th>\n",
              "      <th>PassengerId</th>\n",
              "      <th>Pclass</th>\n",
              "      <th>Name</th>\n",
              "      <th>Sex</th>\n",
              "      <th>Age</th>\n",
              "      <th>SibSp</th>\n",
              "      <th>Parch</th>\n",
              "      <th>Fare</th>\n",
              "      <th>Embarked</th>\n",
              "      <th>FamSize</th>\n",
              "      <th>IsAlone</th>\n",
              "    </tr>\n",
              "  </thead>\n",
              "  <tbody>\n",
              "    <tr>\n",
              "      <th>342</th>\n",
              "      <td>1234</td>\n",
              "      <td>3</td>\n",
              "      <td>Sage, Mr. John George</td>\n",
              "      <td>0</td>\n",
              "      <td>27.0</td>\n",
              "      <td>1</td>\n",
              "      <td>9</td>\n",
              "      <td>69.5500</td>\n",
              "      <td>0</td>\n",
              "      <td>11</td>\n",
              "      <td>0</td>\n",
              "    </tr>\n",
              "    <tr>\n",
              "      <th>74</th>\n",
              "      <td>966</td>\n",
              "      <td>1</td>\n",
              "      <td>Geiger, Miss. Amalie</td>\n",
              "      <td>1</td>\n",
              "      <td>35.0</td>\n",
              "      <td>0</td>\n",
              "      <td>0</td>\n",
              "      <td>211.5000</td>\n",
              "      <td>1</td>\n",
              "      <td>1</td>\n",
              "      <td>1</td>\n",
              "    </tr>\n",
              "    <tr>\n",
              "      <th>125</th>\n",
              "      <td>1017</td>\n",
              "      <td>3</td>\n",
              "      <td>Cribb, Miss. Laura Alice</td>\n",
              "      <td>1</td>\n",
              "      <td>17.0</td>\n",
              "      <td>0</td>\n",
              "      <td>1</td>\n",
              "      <td>16.1000</td>\n",
              "      <td>0</td>\n",
              "      <td>2</td>\n",
              "      <td>0</td>\n",
              "    </tr>\n",
              "    <tr>\n",
              "      <th>217</th>\n",
              "      <td>1109</td>\n",
              "      <td>1</td>\n",
              "      <td>Wick, Mr. George Dennick</td>\n",
              "      <td>0</td>\n",
              "      <td>57.0</td>\n",
              "      <td>1</td>\n",
              "      <td>1</td>\n",
              "      <td>164.8667</td>\n",
              "      <td>0</td>\n",
              "      <td>3</td>\n",
              "      <td>0</td>\n",
              "    </tr>\n",
              "    <tr>\n",
              "      <th>2</th>\n",
              "      <td>894</td>\n",
              "      <td>2</td>\n",
              "      <td>Myles, Mr. Thomas Francis</td>\n",
              "      <td>0</td>\n",
              "      <td>62.0</td>\n",
              "      <td>0</td>\n",
              "      <td>0</td>\n",
              "      <td>9.6875</td>\n",
              "      <td>2</td>\n",
              "      <td>1</td>\n",
              "      <td>1</td>\n",
              "    </tr>\n",
              "    <tr>\n",
              "      <th>269</th>\n",
              "      <td>1161</td>\n",
              "      <td>3</td>\n",
              "      <td>Pokrnic, Mr. Mate</td>\n",
              "      <td>0</td>\n",
              "      <td>17.0</td>\n",
              "      <td>0</td>\n",
              "      <td>0</td>\n",
              "      <td>8.6625</td>\n",
              "      <td>0</td>\n",
              "      <td>1</td>\n",
              "      <td>1</td>\n",
              "    </tr>\n",
              "    <tr>\n",
              "      <th>243</th>\n",
              "      <td>1135</td>\n",
              "      <td>3</td>\n",
              "      <td>Hyman, Mr. Abraham</td>\n",
              "      <td>0</td>\n",
              "      <td>27.0</td>\n",
              "      <td>0</td>\n",
              "      <td>0</td>\n",
              "      <td>7.8875</td>\n",
              "      <td>0</td>\n",
              "      <td>1</td>\n",
              "      <td>1</td>\n",
              "    </tr>\n",
              "    <tr>\n",
              "      <th>301</th>\n",
              "      <td>1193</td>\n",
              "      <td>2</td>\n",
              "      <td>Malachard, Mr. Noel</td>\n",
              "      <td>0</td>\n",
              "      <td>27.0</td>\n",
              "      <td>0</td>\n",
              "      <td>0</td>\n",
              "      <td>15.0458</td>\n",
              "      <td>1</td>\n",
              "      <td>1</td>\n",
              "      <td>1</td>\n",
              "    </tr>\n",
              "    <tr>\n",
              "      <th>310</th>\n",
              "      <td>1202</td>\n",
              "      <td>3</td>\n",
              "      <td>Cacic, Mr. Jego Grga</td>\n",
              "      <td>0</td>\n",
              "      <td>18.0</td>\n",
              "      <td>0</td>\n",
              "      <td>0</td>\n",
              "      <td>8.6625</td>\n",
              "      <td>0</td>\n",
              "      <td>1</td>\n",
              "      <td>1</td>\n",
              "    </tr>\n",
              "    <tr>\n",
              "      <th>197</th>\n",
              "      <td>1089</td>\n",
              "      <td>3</td>\n",
              "      <td>Nilsson, Miss. Berta Olivia</td>\n",
              "      <td>1</td>\n",
              "      <td>18.0</td>\n",
              "      <td>0</td>\n",
              "      <td>0</td>\n",
              "      <td>7.7750</td>\n",
              "      <td>0</td>\n",
              "      <td>1</td>\n",
              "      <td>1</td>\n",
              "    </tr>\n",
              "  </tbody>\n",
              "</table>\n",
              "</div>"
            ],
            "text/plain": [
              "     PassengerId  Pclass                         Name Sex   Age  SibSp  Parch  \\\n",
              "342         1234       3        Sage, Mr. John George   0  27.0      1      9   \n",
              "74           966       1         Geiger, Miss. Amalie   1  35.0      0      0   \n",
              "125         1017       3     Cribb, Miss. Laura Alice   1  17.0      0      1   \n",
              "217         1109       1     Wick, Mr. George Dennick   0  57.0      1      1   \n",
              "2            894       2    Myles, Mr. Thomas Francis   0  62.0      0      0   \n",
              "269         1161       3            Pokrnic, Mr. Mate   0  17.0      0      0   \n",
              "243         1135       3           Hyman, Mr. Abraham   0  27.0      0      0   \n",
              "301         1193       2          Malachard, Mr. Noel   0  27.0      0      0   \n",
              "310         1202       3         Cacic, Mr. Jego Grga   0  18.0      0      0   \n",
              "197         1089       3  Nilsson, Miss. Berta Olivia   1  18.0      0      0   \n",
              "\n",
              "         Fare Embarked  FamSize  IsAlone  \n",
              "342   69.5500        0       11        0  \n",
              "74   211.5000        1        1        1  \n",
              "125   16.1000        0        2        0  \n",
              "217  164.8667        0        3        0  \n",
              "2      9.6875        2        1        1  \n",
              "269    8.6625        0        1        1  \n",
              "243    7.8875        0        1        1  \n",
              "301   15.0458        1        1        1  \n",
              "310    8.6625        0        1        1  \n",
              "197    7.7750        0        1        1  "
            ]
          },
          "execution_count": 9,
          "metadata": {},
          "output_type": "execute_result"
        }
      ],
      "source": [
        "#Transformando strings em int para modelagem de dados\n",
        "training.loc[training[\"Sex\"] == \"male\", \"Sex\"] = 0\n",
        "training.loc[training[\"Sex\"] == \"female\", \"Sex\"] = 1\n",
        "\n",
        "training.loc[training[\"Embarked\"] == \"S\", \"Embarked\"] = 0\n",
        "training.loc[training[\"Embarked\"] == \"C\", \"Embarked\"] = 1\n",
        "training.loc[training[\"Embarked\"] == \"Q\", \"Embarked\"] = 2\n",
        "\n",
        "testing.loc[testing[\"Sex\"] == \"male\", \"Sex\"] = 0\n",
        "testing.loc[testing[\"Sex\"] == \"female\", \"Sex\"] = 1\n",
        "\n",
        "testing.loc[testing[\"Embarked\"] == \"S\", \"Embarked\"] = 0\n",
        "testing.loc[testing[\"Embarked\"] == \"C\", \"Embarked\"] = 1\n",
        "testing.loc[testing[\"Embarked\"] == \"Q\", \"Embarked\"] = 2\n",
        "\n",
        "training[\"FamSize\"] = training[\"SibSp\"] + training[\"Parch\"] + 1\n",
        "testing[\"FamSize\"] = testing[\"SibSp\"] + testing[\"Parch\"] + 1\n",
        "\n",
        "training[\"IsAlone\"] = training.FamSize.apply(lambda x: 1 if x == 1 else 0)\n",
        "testing[\"IsAlone\"] = testing.FamSize.apply(lambda x: 1 if x == 1 else 0)\n",
        "\n",
        "testing.sample(10)"
      ]
    },
    {
      "cell_type": "markdown",
      "metadata": {
        "id": "tt6AxadqzrKQ"
      },
      "source": [
        "###Separação em conjunto de treino e conjunto de teste"
      ]
    },
    {
      "cell_type": "code",
      "execution_count": 10,
      "metadata": {
        "id": "aiB1aWcFHtW-"
      },
      "outputs": [],
      "source": [
        "features = [\"Pclass\", \"Sex\", \"Age\", \"Embarked\", \"Fare\"]\n",
        "X_train = training[features]\n",
        "y_train = training[\"Survived\"]\n",
        "X_test = testing[features]\n",
        "\n",
        "X_training, X_valid, y_training, y_valid = train_test_split(X_train, y_train, test_size=0.2, random_state=0)"
      ]
    },
    {
      "cell_type": "markdown",
      "metadata": {
        "id": "baS-XFK3bjiK"
      },
      "source": [
        "##Modelagem de dados"
      ]
    },
    {
      "cell_type": "code",
      "execution_count": 11,
      "metadata": {
        "colab": {
          "base_uri": "https://localhost:8080/"
        },
        "id": "xK-3qDro237G",
        "outputId": "c1b10e15-8d77-4fa2-e192-c1f13a8be282"
      },
      "outputs": [
        {
          "name": "stdout",
          "output_type": "stream",
          "text": [
            "0.7094972067039106\n"
          ]
        }
      ],
      "source": [
        "svc_clf = SVC()\n",
        "svc_clf.fit(X_training, y_training)\n",
        "pred_svc = svc_clf.predict(X_valid)\n",
        "acc_svc = accuracy_score(y_valid, pred_svc)\n",
        "\n",
        "print(acc_svc)"
      ]
    },
    {
      "cell_type": "code",
      "execution_count": 12,
      "metadata": {
        "colab": {
          "base_uri": "https://localhost:8080/"
        },
        "id": "sJSyelO-3e9_",
        "outputId": "a6712736-8ea8-4936-e8e3-a104365e2743"
      },
      "outputs": [
        {
          "name": "stdout",
          "output_type": "stream",
          "text": [
            "0.7877094972067039\n"
          ]
        }
      ],
      "source": [
        "linsvc_clf = LinearSVC()\n",
        "linsvc_clf.fit(X_training, y_training)\n",
        "pred_linsvc = linsvc_clf.predict(X_valid)\n",
        "acc_linsvc = accuracy_score(y_valid, pred_linsvc)\n",
        "\n",
        "print(acc_linsvc)"
      ]
    },
    {
      "cell_type": "code",
      "execution_count": 13,
      "metadata": {
        "colab": {
          "base_uri": "https://localhost:8080/"
        },
        "id": "kCf6kBJx3gaH",
        "outputId": "70fb6d13-adae-4e37-cf5b-72af62bb1f7a"
      },
      "outputs": [
        {
          "name": "stdout",
          "output_type": "stream",
          "text": [
            "0.8379888268156425\n"
          ]
        }
      ],
      "source": [
        "rf_clf = RandomForestClassifier()\n",
        "rf_clf.fit(X_training, y_training)\n",
        "pred_rf = rf_clf.predict(X_valid)\n",
        "acc_rf = accuracy_score(y_valid, pred_rf)\n",
        "\n",
        "print(acc_rf)"
      ]
    },
    {
      "cell_type": "code",
      "execution_count": 14,
      "metadata": {
        "colab": {
          "base_uri": "https://localhost:8080/"
        },
        "id": "TZGTDCLM3jN-",
        "outputId": "2289a7f1-e570-4a84-89fd-94468d837a8c"
      },
      "outputs": [
        {
          "name": "stdout",
          "output_type": "stream",
          "text": [
            "0.7988826815642458\n"
          ]
        }
      ],
      "source": [
        "logreg_clf = LogisticRegression()\n",
        "logreg_clf.fit(X_training, y_training)\n",
        "pred_logreg = logreg_clf.predict(X_valid)\n",
        "acc_logreg = accuracy_score(y_valid, pred_logreg)\n",
        "\n",
        "print(acc_logreg)"
      ]
    },
    {
      "cell_type": "code",
      "execution_count": 15,
      "metadata": {
        "colab": {
          "base_uri": "https://localhost:8080/"
        },
        "id": "U9s-bcvR3mQG",
        "outputId": "df2a0d7c-056d-4bf6-dd79-a1e246090bf2"
      },
      "outputs": [
        {
          "name": "stdout",
          "output_type": "stream",
          "text": [
            "0.7318435754189944\n"
          ]
        }
      ],
      "source": [
        "knn_clf = KNeighborsClassifier()\n",
        "knn_clf.fit(X_training, y_training)\n",
        "pred_knn = knn_clf.predict(X_valid)\n",
        "acc_knn = accuracy_score(y_valid, pred_knn)\n",
        "\n",
        "print(acc_knn)"
      ]
    },
    {
      "cell_type": "code",
      "execution_count": 16,
      "metadata": {
        "colab": {
          "base_uri": "https://localhost:8080/"
        },
        "id": "MWFNV72P3oxq",
        "outputId": "db5664d1-3e3c-4e30-ea63-323741a255e8"
      },
      "outputs": [
        {
          "name": "stdout",
          "output_type": "stream",
          "text": [
            "0.7877094972067039\n"
          ]
        }
      ],
      "source": [
        "gnb_clf = GaussianNB()\n",
        "gnb_clf.fit(X_training, y_training)\n",
        "pred_gnb = gnb_clf.predict(X_valid)\n",
        "acc_gnb = accuracy_score(y_valid, pred_gnb)\n",
        "\n",
        "print(acc_gnb)"
      ]
    },
    {
      "cell_type": "code",
      "execution_count": 17,
      "metadata": {
        "colab": {
          "base_uri": "https://localhost:8080/"
        },
        "id": "tNNZFkjU3pvG",
        "outputId": "7c035d7a-656c-4804-a3f8-78903aa70ee7"
      },
      "outputs": [
        {
          "name": "stdout",
          "output_type": "stream",
          "text": [
            "0.7932960893854749\n"
          ]
        }
      ],
      "source": [
        "dt_clf = DecisionTreeClassifier()\n",
        "dt_clf.fit(X_training, y_training)\n",
        "pred_dt = dt_clf.predict(X_valid)\n",
        "acc_dt = accuracy_score(y_valid, pred_dt)\n",
        "\n",
        "print(acc_dt)"
      ]
    },
    {
      "cell_type": "markdown",
      "metadata": {
        "id": "5fziusz8bmAY"
      },
      "source": [
        "Avaliação e comparação dos resultados"
      ]
    },
    {
      "cell_type": "code",
      "execution_count": 18,
      "metadata": {
        "colab": {
          "base_uri": "https://localhost:8080/",
          "height": 266
        },
        "id": "c1omrO9hFK1f",
        "outputId": "eed83a3d-63aa-4ce9-81b7-db49dcf8acd5"
      },
      "outputs": [
        {
          "data": {
            "text/html": [
              "<div>\n",
              "<style scoped>\n",
              "    .dataframe tbody tr th:only-of-type {\n",
              "        vertical-align: middle;\n",
              "    }\n",
              "\n",
              "    .dataframe tbody tr th {\n",
              "        vertical-align: top;\n",
              "    }\n",
              "\n",
              "    .dataframe thead th {\n",
              "        text-align: right;\n",
              "    }\n",
              "</style>\n",
              "<table border=\"1\" class=\"dataframe\">\n",
              "  <thead>\n",
              "    <tr style=\"text-align: right;\">\n",
              "      <th></th>\n",
              "      <th>Model</th>\n",
              "      <th>Accuracy</th>\n",
              "    </tr>\n",
              "  </thead>\n",
              "  <tbody>\n",
              "    <tr>\n",
              "      <th>2</th>\n",
              "      <td>Random Forest</td>\n",
              "      <td>0.837989</td>\n",
              "    </tr>\n",
              "    <tr>\n",
              "      <th>3</th>\n",
              "      <td>Logistic Regression</td>\n",
              "      <td>0.798883</td>\n",
              "    </tr>\n",
              "    <tr>\n",
              "      <th>6</th>\n",
              "      <td>Decision Tree</td>\n",
              "      <td>0.793296</td>\n",
              "    </tr>\n",
              "    <tr>\n",
              "      <th>1</th>\n",
              "      <td>Linear SVC</td>\n",
              "      <td>0.787709</td>\n",
              "    </tr>\n",
              "    <tr>\n",
              "      <th>5</th>\n",
              "      <td>Gaussian Naive Bayes</td>\n",
              "      <td>0.787709</td>\n",
              "    </tr>\n",
              "    <tr>\n",
              "      <th>4</th>\n",
              "      <td>K Nearest Neighbors</td>\n",
              "      <td>0.731844</td>\n",
              "    </tr>\n",
              "    <tr>\n",
              "      <th>0</th>\n",
              "      <td>SVC</td>\n",
              "      <td>0.709497</td>\n",
              "    </tr>\n",
              "  </tbody>\n",
              "</table>\n",
              "</div>"
            ],
            "text/plain": [
              "                  Model  Accuracy\n",
              "2         Random Forest  0.837989\n",
              "3   Logistic Regression  0.798883\n",
              "6         Decision Tree  0.793296\n",
              "1            Linear SVC  0.787709\n",
              "5  Gaussian Naive Bayes  0.787709\n",
              "4   K Nearest Neighbors  0.731844\n",
              "0                   SVC  0.709497"
            ]
          },
          "execution_count": 18,
          "metadata": {},
          "output_type": "execute_result"
        }
      ],
      "source": [
        "model_performance = pd.DataFrame({\n",
        "    \"Model\": [\"SVC\", \"Linear SVC\", \"Random Forest\",\n",
        "              \"Logistic Regression\", \"K Nearest Neighbors\", \"Gaussian Naive Bayes\",\n",
        "              \"Decision Tree\"],\n",
        "    \"Accuracy\": [acc_svc, acc_linsvc, acc_rf,\n",
        "              acc_logreg, acc_knn, acc_gnb, acc_dt]\n",
        "})\n",
        "\n",
        "model_performance.sort_values(by=\"Accuracy\", ascending=False)"
      ]
    },
    {
      "cell_type": "markdown",
      "metadata": {
        "id": "hL00mNRN-QBq"
      },
      "source": [
        "###Criação e avaliação de modelos: linha base"
      ]
    },
    {
      "cell_type": "code",
      "execution_count": 19,
      "metadata": {
        "colab": {
          "base_uri": "https://localhost:8080/",
          "height": 950
        },
        "id": "0hDV0qYL9aQd",
        "outputId": "ac836503-61a9-4455-e105-633d1e8b07d4"
      },
      "outputs": [
        {
          "name": "stdout",
          "output_type": "stream",
          "text": [
            "KNN: 0.699176 (0.037122)\n",
            "CART: 0.790050 (0.040475)\n",
            "NB: 0.776592 (0.045580)\n",
            "SVM: 0.673446 (0.044401)\n"
          ]
        },
        {
          "data": {
            "image/png": "[encoded data removed]",
            "text/plain": [
              "<Figure size 1500x1000 with 1 Axes>"
            ]
          },
          "metadata": {},
          "output_type": "display_data"
        }
      ],
      "source": [
        "np.random.seed(7)\n",
        "seed = 7\n",
        "models = []\n",
        "\n",
        "models.append(('KNN', KNeighborsClassifier()))\n",
        "models.append(('CART', DecisionTreeClassifier()))\n",
        "models.append(('NB', GaussianNB()))\n",
        "models.append(('SVM', SVC()))\n",
        "\n",
        "results = []\n",
        "names = []\n",
        "\n",
        "scoring = 'accuracy'\n",
        "num_particoes = 10\n",
        "kfold = StratifiedKFold(n_splits=num_particoes, shuffle=True, random_state=seed)\n",
        "\n",
        "for name, model in models:\n",
        "    cv_results = cross_val_score(model, X_train, y_train, cv=kfold, scoring=scoring)\n",
        "    results.append(cv_results)\n",
        "    names.append(name)\n",
        "    msg = \"%s: %f (%f)\" % (name, cv_results.mean(), cv_results.std())\n",
        "    print(msg)\n",
        "\n",
        "fig = plt.figure(figsize=(15,10))\n",
        "fig.suptitle('Comparação dos Modelos')\n",
        "ax = fig.add_subplot(111)\n",
        "plt.boxplot(results)\n",
        "ax.set_xticklabels(names)\n",
        "plt.show()"
      ]
    },
    {
      "cell_type": "markdown",
      "metadata": {
        "id": "n-IoTa0k-TAv"
      },
      "source": [
        "###Criação e avaliação de modelos: dados padronizados e normalizados"
      ]
    },
    {
      "cell_type": "code",
      "execution_count": 20,
      "metadata": {
        "colab": {
          "base_uri": "https://localhost:8080/",
          "height": 585
        },
        "id": "D15T6KGx-Wn8",
        "outputId": "60929533-5b15-4826-fbf9-0c131ead449f"
      },
      "outputs": [
        {
          "name": "stdout",
          "output_type": "stream",
          "text": [
            "KNN-orig: 0.699 (0.037)\n",
            "CART-orig: 0.790 (0.040)\n",
            "NB-orig: 0.777 (0.046)\n",
            "SVM-orig: 0.673 (0.044)\n",
            "KNN-padr: 0.819 (0.036)\n",
            "CART-padr: 0.784 (0.039)\n",
            "NB-padr: 0.777 (0.046)\n",
            "SVM-padr: 0.825 (0.019)\n",
            "KNN-norm: 0.799 (0.040)\n",
            "CART-norm: 0.792 (0.050)\n",
            "NB-norm: 0.777 (0.046)\n",
            "SVM-norm: 0.811 (0.021)\n"
          ]
        },
        {
          "data": {
            "image/png": "[encoded data removed]",
            "text/plain": [
              "<Figure size 2500x600 with 1 Axes>"
            ]
          },
          "metadata": {},
          "output_type": "display_data"
        }
      ],
      "source": [
        "np.random.seed(7)\n",
        "\n",
        "results = []\n",
        "names = []\n",
        "pipelines = []\n",
        "\n",
        "knn = ('KNN', KNeighborsClassifier())\n",
        "cart = ('CART', DecisionTreeClassifier())\n",
        "naive_bayes = ('NB', GaussianNB())\n",
        "svm = ('SVM', SVC())\n",
        "\n",
        "standard_scaler = ('StandardScaler', StandardScaler())\n",
        "min_max_scaler = ('MinMaxScaler', MinMaxScaler())\n",
        "\n",
        "pipelines.append(('KNN-orig', Pipeline([knn])))\n",
        "pipelines.append(('CART-orig', Pipeline([cart])))\n",
        "pipelines.append(('NB-orig', Pipeline([naive_bayes])))\n",
        "pipelines.append(('SVM-orig', Pipeline([svm])))\n",
        "\n",
        "# Dataset Padronizado\n",
        "pipelines.append(('KNN-padr', Pipeline([standard_scaler, knn])))\n",
        "pipelines.append(('CART-padr', Pipeline([standard_scaler, cart])))\n",
        "pipelines.append(('NB-padr', Pipeline([standard_scaler, naive_bayes])))\n",
        "pipelines.append(('SVM-padr', Pipeline([standard_scaler, svm])))\n",
        "\n",
        "# Dataset Normalizado\n",
        "pipelines.append(('KNN-norm', Pipeline([min_max_scaler, knn])))\n",
        "pipelines.append(('CART-norm', Pipeline([min_max_scaler, cart])))\n",
        "pipelines.append(('NB-norm', Pipeline([min_max_scaler, naive_bayes])))\n",
        "pipelines.append(('SVM-norm', Pipeline([min_max_scaler, svm])))\n",
        "\n",
        "for name, model in pipelines:\n",
        "    cv_results = cross_val_score(model, X_train, y_train, cv=kfold, scoring=scoring)\n",
        "    results.append(cv_results)\n",
        "    names.append(name)\n",
        "    msg = \"%s: %.3f (%.3f)\" % (name, cv_results.mean(), cv_results.std())\n",
        "    print(msg)\n",
        "\n",
        "fig = plt.figure(figsize=(25,6))\n",
        "fig.suptitle('Comparação dos Modelos - Dataset orginal, padronizado e normalizado')\n",
        "ax = fig.add_subplot(111)\n",
        "plt.boxplot(results)\n",
        "ax.set_xticklabels(names, rotation=90)\n",
        "plt.show()"
      ]
    },
    {
      "cell_type": "markdown",
      "metadata": {
        "id": "zLj3RKCc-ajO"
      },
      "source": [
        "Otimização dos hiperparâmetros"
      ]
    },
    {
      "cell_type": "code",
      "execution_count": 21,
      "metadata": {
        "colab": {
          "base_uri": "https://localhost:8080/"
        },
        "id": "IA9Gcace-bA8",
        "outputId": "7c3a1fde-7f9c-498a-d125-78fbb4604db0"
      },
      "outputs": [
        {
          "name": "stdout",
          "output_type": "stream",
          "text": [
            "Sem tratamento de missings: knn-orig - Melhor: 0.745218 usando {'KNN__metric': 'manhattan', 'KNN__n_neighbors': 7}\n",
            "Sem tratamento de missings: knn-padr - Melhor: 0.819226 usando {'KNN__metric': 'euclidean', 'KNN__n_neighbors': 5}\n",
            "Sem tratamento de missings: knn-norm - Melhor: 0.809189 usando {'KNN__metric': 'euclidean', 'KNN__n_neighbors': 19}\n"
          ]
        }
      ],
      "source": [
        "\n",
        "np.random.seed(7)\n",
        "\n",
        "pipelines = []\n",
        "\n",
        "# Definindo os componentes do pipeline\n",
        "knn = ('KNN', KNeighborsClassifier())\n",
        "standard_scaler = ('StandardScaler', StandardScaler())\n",
        "min_max_scaler = ('MinMaxScaler', MinMaxScaler())\n",
        "\n",
        "pipelines.append(('knn-orig', Pipeline(steps=[knn])))\n",
        "pipelines.append(('knn-padr', Pipeline(steps=[standard_scaler, knn])))\n",
        "pipelines.append(('knn-norm', Pipeline(steps=[min_max_scaler, knn])))\n",
        "\n",
        "param_grid = {\n",
        "    'KNN__n_neighbors': [1,3,5,7,9,11,13,15,17,19,21],\n",
        "    'KNN__metric': [\"euclidean\", \"manhattan\", \"minkowski\"],\n",
        "}\n",
        "\n",
        "# Prepara e executa o GridSearchCV\n",
        "for name, model in pipelines:\n",
        "    grid = GridSearchCV(estimator=model, param_grid=param_grid, scoring=scoring, cv=kfold)\n",
        "    grid.fit(X_train, y_train)\n",
        "    # imprime a melhor configuração\n",
        "    print(\"Sem tratamento de missings: %s - Melhor: %f usando %s\" % (name, grid.best_score_, grid.best_params_))"
      ]
    },
    {
      "cell_type": "markdown",
      "metadata": {
        "id": "IUmDVNhI_n8V"
      },
      "source": [
        "Finalização do Modelo"
      ]
    },
    {
      "cell_type": "code",
      "execution_count": 22,
      "metadata": {
        "colab": {
          "base_uri": "https://localhost:8080/"
        },
        "id": "sD9q3s09_p4h",
        "outputId": "6882204d-f091-47ab-d59c-76619fa5eefd"
      },
      "outputs": [
        {
          "name": "stdout",
          "output_type": "stream",
          "text": [
            "<function accuracy_score at 0x1196addc0>\n"
          ]
        }
      ],
      "source": [
        "scaler = StandardScaler().fit(X_train)\n",
        "rescaledX = scaler.transform(X_train)\n",
        "model = KNeighborsClassifier(metric='manhattan', n_neighbors=17)\n",
        "model.fit(rescaledX, y_train)\n",
        "\n",
        "# Estimativa da acurácia no conjunto de teste\n",
        "rescaledTestX = scaler.transform(X_test)\n",
        "predictions = model.predict(rescaledTestX)\n",
        "print(accuracy_score)"
      ]
    },
    {
      "cell_type": "code",
      "execution_count": 23,
      "metadata": {
        "colab": {
          "base_uri": "https://localhost:8080/",
          "height": 74
        },
        "id": "9v_iE4t-_te5",
        "outputId": "c05046f9-fd2c-4533-bfea-2b4962f5deaf"
      },
      "outputs": [
        {
          "data": {
            "text/plain": [
              "KNeighborsClassifier(algorithm='auto', leaf_size=30, metric='manhattan',\n",
              "                     metric_params=None, n_jobs=None, n_neighbors=17, p=2,\n",
              "                     weights='uniform')"
            ]
          },
          "execution_count": 23,
          "metadata": {},
          "output_type": "execute_result"
        }
      ],
      "source": [
        "# Preparação do modelo com TODO o dataset\n",
        "scaler = StandardScaler().fit(X_train)\n",
        "rescaledX = scaler.transform(X_train)\n",
        "model.fit(rescaledX, y_train)"
      ]
    },
    {
      "cell_type": "code",
      "execution_count": 24,
      "metadata": {
        "id": "gQ54fqNzDHnr"
      },
      "outputs": [
        {
          "data": {
            "text/plain": [
              "['knn_titanic.pkl']"
            ]
          },
          "execution_count": 24,
          "metadata": {},
          "output_type": "execute_result"
        }
      ],
      "source": [
        "import joblib\n",
        "lr = LogisticRegression\n",
        "knn = KNeighborsClassifier\n",
        "\n",
        "# Salvando o modelo em LR e KNN\n",
        "joblib.dump(lr, \"lr_titanic.pkl\")\n",
        "joblib.dump(knn, \"knn_titanic.pkl\")"
      ]
    },
    {
      "cell_type": "markdown",
      "metadata": {},
      "source": [
        "Aqui tivemos como inicial problema um naufrágio, visto que conhecemos a história de que o navio Titanic não tinha botes o suficiente para salvar a todos os passageiros, quais seriam os mais propensos a sobreviver, tendo inicialmente que 342 pessoas sobreviveram.\n",
        "\n",
        "Inicialmente calculamos a taxa de sobrevivência por gênero, uma vez que culturalmente em situação de perigo, as mulheres e as crianças seriam as primeiras a irem para os botes. Os cálculos então, confirmam que 68.13% dos sobreviventes eram mulheres.\n",
        "\n",
        "Vemos também uma discrepância quando em relação às classes, já que os cálculos mais uma vez confirmam que passageiros da 1ª classe tem mais chances de sobreviver (39.77%).\n",
        "\n",
        "Além disso, há uma curiosidade em decorrência da proporção de sobrevivência por idade, visto que a maioria dos passageiros estavam entre seus 20 a 40 anos, e passageiros de idade inferior a 20 anos (ou seja, crianças), tiveram maior taxa de sobrevivência.\n",
        "\n",
        "A acurácia dos modelos se manteve, em média, maior que 0.75 (ou 75%), levando em consideração a manipulação dos dados de forma que os cálculos ficassem mais fáceis de interpretar pela ML, como o arredondamento de idades nulas e a binarização de dados como o porto de embarque e o gênero, que influenciaria no cálculo final."
      ]
    }
  ],
  "metadata": {
    "colab": {
      "provenance": []
    },
    "kernelspec": {
      "display_name": "Python 3",
      "name": "python3"
    },
    "language_info": {
      "codemirror_mode": {
        "name": "ipython",
        "version": 3
      },
      "file_extension": ".py",
      "mimetype": "text/x-python",
      "name": "python",
      "nbconvert_exporter": "python",
      "pygments_lexer": "ipython3",
      "version": "3.8.2"
    }
  },
  "nbformat": 4,
  "nbformat_minor": 0
}
